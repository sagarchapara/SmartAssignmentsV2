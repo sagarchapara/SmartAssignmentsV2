{
 "cells": [
  {
   "cell_type": "code",
   "execution_count": null,
   "metadata": {},
   "outputs": [],
   "source": [
    "%pip install openai\n",
    "%pip install pandas\n",
    "%pip install numpy\n",
    "%pip install nltk\n",
    "%pip install gensim"
   ]
  },
  {
   "cell_type": "code",
   "execution_count": null,
   "metadata": {},
   "outputs": [],
   "source": [
    "#Azure OpenAI Setup\n",
    "\n",
    "import os\n",
    "from openai import AzureOpenAI\n",
    "    \n",
    "client = AzureOpenAI(\n",
    "    api_key= \"28f146892bb54fd3a8ed90c8f7080f0a\",\n",
    "    api_version=\"2023-12-01-preview\",\n",
    "    azure_endpoint= \"https://assignments.openai.azure.com/\"\n",
    ")"
   ]
  },
  {
   "cell_type": "code",
   "execution_count": 1,
   "metadata": {},
   "outputs": [],
   "source": [
    "#Pre process the text data\n",
    "import logging\n",
    "import pandas as pd\n",
    "import numpy as np\n",
    "from numpy import random\n",
    "import gensim\n",
    "import nltk\n",
    "import numpy\n",
    "\n",
    "from nltk.corpus import stopwords\n",
    "import re\n",
    "from bs4 import BeautifulSoup\n",
    "\n",
    "\n",
    "REPLACE_BY_SPACE_RE = re.compile('[/(){}\\[\\]\\|@,;]')\n",
    "BAD_SYMBOLS_RE = re.compile('[^0-9a-z #+_]')\n",
    "STOPWORDS = set(stopwords.words('english'))\n",
    "\n",
    "def clean_text(text):\n",
    "    \"\"\"\n",
    "        text: a string\n",
    "        \n",
    "        return: modified initial string\n",
    "    \"\"\"\n",
    "    text = BeautifulSoup(text, \"html.parser\").text # HTML decoding\n",
    "    text = text.lower() # lowercase text\n",
    "    text = REPLACE_BY_SPACE_RE.sub(' ', text) # replace REPLACE_BY_SPACE_RE symbols by space in text\n",
    "    text = BAD_SYMBOLS_RE.sub('', text) # delete symbols which are in BAD_SYMBOLS_RE from text\n",
    "    text = ' '.join(word for word in text.split() if word not in STOPWORDS) # delete stopwors from text\n",
    "    return text"
   ]
  },
  {
   "cell_type": "code",
   "execution_count": 4,
   "metadata": {},
   "outputs": [
    {
     "name": "stderr",
     "output_type": "stream",
     "text": [
      "C:\\Users\\chaparasagar\\AppData\\Local\\Temp\\ipykernel_14764\\2332485162.py:25: MarkupResemblesLocatorWarning: The input looks more like a filename than markup. You may want to open this file and pass the filehandle into Beautiful Soup.\n",
      "  text = BeautifulSoup(text, \"html.parser\").text # HTML decoding\n"
     ]
    }
   ],
   "source": [
    "#Code to generate embeddings and store in a collection in VectorDB\n",
    "\n",
    "import json\n",
    "import time\n",
    "\n",
    "import smartassignments\n",
    "import vectordb\n",
    "\n",
    "client = smartassignments.GetOpenAiClient()\n",
    "\n",
    "collection = vectordb.CreateCollection(\"smartassignments\")\n",
    "\n",
    "def ReadAndGenerateEmbeddings(client, fileName):\n",
    "    #read from text file\n",
    "    with open(fileName, 'r') as file: \n",
    "        data = file.read()\n",
    "\n",
    "        #data is a json\n",
    "        data = json.loads(data)\n",
    "\n",
    "        for key in data.keys():\n",
    "            curr_data = data[key]\n",
    "\n",
    "            #data is role and work items\n",
    "            name = curr_data['Name']\n",
    "            role = curr_data['Role']\n",
    "            workItems = curr_data['Tasks']\n",
    "\n",
    "            meta_data = {\n",
    "                \"Name\": name,\n",
    "                \"Role\": role\n",
    "            }\n",
    "\n",
    "            #create a json using both\n",
    "            curr_data = {\n",
    "                \"role\": role,\n",
    "                \"tasks\": [clean_text(task) for task in workItems]\n",
    "            }\n",
    "\n",
    "            #convert to string\n",
    "            curr_data = json.dumps(curr_data)\n",
    "\n",
    "            #get embeddings for the jso\n",
    "            embedding = smartassignments.GetEmbeddings(client,  curr_data)[0].tolist()\n",
    "\n",
    "            #also get the summary of the embeddings\n",
    "            summary = smartassignments.GetSummary(client, curr_data)\n",
    "\n",
    "            #store the embedding and summary in the collection\n",
    "            vectordb.Add(collection, key, embedding,  meta_data, summary)\n",
    "\n",
    "            #verify if the data is stored\n",
    "            query_embedding = vectordb.Get(collection, key)\n",
    "\n",
    "            #wait for some time\n",
    "            time.sleep(6)\n",
    "\n",
    "    return\n",
    "\n",
    "\n",
    "ReadAndGenerateEmbeddings(client, \"data.json\")\n"
   ]
  },
  {
   "cell_type": "code",
   "execution_count": null,
   "metadata": {},
   "outputs": [],
   "source": []
  }
 ],
 "metadata": {
  "kernelspec": {
   "display_name": "Python 3",
   "language": "python",
   "name": "python3"
  },
  "language_info": {
   "codemirror_mode": {
    "name": "ipython",
    "version": 3
   },
   "file_extension": ".py",
   "mimetype": "text/x-python",
   "name": "python",
   "nbconvert_exporter": "python",
   "pygments_lexer": "ipython3",
   "version": "3.10.11"
  }
 },
 "nbformat": 4,
 "nbformat_minor": 2
}
